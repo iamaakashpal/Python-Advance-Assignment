{
 "cells": [
  {
   "cell_type": "markdown",
   "metadata": {},
   "source": [
    "##### 1. What are the new features added in Python 3.8 version?"
   ]
  },
  {
   "cell_type": "markdown",
   "metadata": {},
   "source": [
    "**-->** \n",
    "**Walrus Operator:** This operator is used to assign and return a value in the same expression. This removes the need for initializing the variable upfront. The major benefit of this is it\n",
    "saves some lines of code. It is also known as **`The Walrus Operator`** due to its similarity to the eyes and tusks of a walrus.\n",
    "\n",
    "**`yield`** and **`return`** statements do not require parentheses to return multiple values. \n",
    "\n",
    "Reversed works with a dictionary. The built-in method **`reversed()`** can be used for accessing the elements in the reverse order of insertion\n",
    "\n",
    "**Dict comprehensions** have been modified so that the key is computed first and the value second. \n",
    "\n",
    "\n",
    "**`importlib_metadata`** is a new library added in the Python’s standard utility modules, that provides an API for accessing an installed package’s metadata, such as its entry points or its top-level name.\n",
    "\n",
    "f-strings now support **`=`** , to make string interpolation easy. Python 3.8 allows the use of the above-discussed assignment operator and equal sign **`(=)`** inside the f-strings. \n",
    "\n",
    "In the three-argument form of **`pow()`**, when the exponent is -1, it calculates the modular multiplicative inverse of the given value\n",
    "\n",
    "The **`csv.DictReader`** now returns instances of dictionary instead of a **`collections.OrderedDict`**. \n",
    "\n",
    "If you miss a comma in your code such as a = **`[(1, 2) (3, 4)]`**, instead of throwing **`TypeError`**, it displays an informative Syntax warning. "
   ]
  },
  {
   "cell_type": "code",
   "execution_count": null,
   "metadata": {},
   "outputs": [],
   "source": [
    " \n",
    "if (sum := 10 + 5) > 10:  \n",
    "    print(sum) \n",
    " \n",
    "def hello():\n",
    "    return 'Hello','Good Morning'\n",
    "print(hello())\n",
    "def count():\n",
    "    for i in range(5):\n",
    "        yield i,i**2\n",
    "for ele in count():\n",
    "    print(ele, end=\" \")\n",
    "print() \n",
    "\n",
    "t_dict = {\"Name\":\"Mano Vishnu\",\"Role\":\"Data Scientist\"}\n",
    "for ele in reversed(t_dict):\n",
    "    print(f'{ele}:\"{t_dict[ele]}\"')\n",
    "     \n",
    "len_string = len(\"Ineuron Full Stack Data Science\")\n",
    "print(f'The length of string is {len_string = }')\n",
    " \n",
    "r_list = [(1,2) (3,4)]"
   ]
  },
  {
   "cell_type": "markdown",
   "metadata": {},
   "source": [
    "##### 2. What is monkey patching in Python?"
   ]
  },
  {
   "cell_type": "markdown",
   "metadata": {},
   "source": [
    "**-->** In Python, the term monkey patch refers to making dynamic (or run-time) modifications to a class or module. In Python, we can actually change the behavior of code at run-time."
   ]
  },
  {
   "cell_type": "code",
   "execution_count": 7,
   "metadata": {},
   "outputs": [
    {
     "name": "stdout",
     "output_type": "stream",
     "text": [
      "monkey_f() is being called\n"
     ]
    }
   ],
   "source": [
    "class A:\n",
    "    def func(self):\n",
    "        print(\"func() is being called\")\n",
    "\n",
    "def monkey_f(self):\n",
    "    print(\"monkey_f() is being called\")\n",
    "\n",
    "A.func = monkey_f\n",
    "some_object = A()\n",
    "some_object.func()"
   ]
  },
  {
   "cell_type": "markdown",
   "metadata": {},
   "source": [
    "##### 3. What is the difference between a shallow copy and deep copy?"
   ]
  },
  {
   "cell_type": "markdown",
   "metadata": {},
   "source": [
    "**-->** The Differences between a Shallow Copy and deep copy are as follows: \n",
    "\n",
    "When an object is copied using **`copy()`**, it is called **shallow copy** as changes made in copied object will also make corresponding changes in original object, because both the objects\n",
    "will be referencing same address location. \n",
    "\n",
    "When an object is copied using **`deepcopy()`**, it is called **deep copy** as changes made in copied object will not make corresponding changes in original object, because both the objects will not be referencing same address location. "
   ]
  },
  {
   "cell_type": "code",
   "execution_count": 8,
   "metadata": {},
   "outputs": [
    {
     "name": "stdout",
     "output_type": "stream",
     "text": [
      "Original Elements of each List\n",
      "[1, 2, [3, 4], 5, 6]\n",
      "[1, 2, [3, 4], 5, 6]\n",
      "[1, 2, [3, 4], 5, 6]\n",
      "New Elements of each List\n",
      "[1, 2, [3, 4], 5, 20]\n",
      "[10, 2, [3, 4], 5, 6]\n",
      "[1, 2, [3, 4], 5, 20]\n"
     ]
    }
   ],
   "source": [
    "from copy import deepcopy, copy\n",
    "lst_1 = [1,2,[3,4],5,6]\n",
    "lst_2 = deepcopy(lst_1)\n",
    "lst_3 = lst_1\n",
    "print(f'Original Elements of each List\\n{lst_1}\\n{lst_2}\\n{lst_3}')\n",
    "lst_2[0] = 10\n",
    "lst_3[-1] = 20\n",
    "print(f'New Elements of each List\\n{lst_1}\\n{lst_2}\\n{lst_3}')"
   ]
  },
  {
   "cell_type": "markdown",
   "metadata": {},
   "source": [
    "##### 4. What is the maximum possible length of an identifier?"
   ]
  },
  {
   "cell_type": "markdown",
   "metadata": {},
   "source": [
    "**-->** In Python, the highest possible length of an identifier is 79 characters. Python is a high level programming language. It’s also a complex form and a collector of waste.\n",
    "\n",
    "- Python, particularly when combined with identifiers, is case-sensitive.\n",
    "- When writing or using identifiers in Python, it has a maximum of 79 characters.\n",
    "- Unlikely, Python gives the identifiers unlimited length.\n",
    "- However, the layout of PEP-8 prevents the user from breaking the rules and includes a 79-character limit."
   ]
  },
  {
   "cell_type": "markdown",
   "metadata": {},
   "source": [
    "##### 5. What is generator comprehension?"
   ]
  },
  {
   "cell_type": "markdown",
   "metadata": {},
   "source": [
    "**-->**  A generator comprehension is a single-line specification for defining a generator in Python. \n",
    "\n",
    "- It is absolutely essential to learn this syntax in order to write simple and readable code.\n",
    "- Generator comprehension uses round bracket unlike square bracket in list comprehension.\n",
    "- The generator yields one item at a time and generates item only when in demand. Whereas, in a list comprehension, Python reserves memory for the whole list. Thus we can say that the generator expressions are memory efficient than the lists."
   ]
  },
  {
   "cell_type": "code",
   "execution_count": 10,
   "metadata": {},
   "outputs": [
    {
     "name": "stdout",
     "output_type": "stream",
     "text": [
      "[0, 1, 2, 3, 4, 5, 6, 7, 8, 9]\n",
      "<generator object <genexpr> at 0x000001E7C1C1F450>\n",
      "0 2 4 6 8 "
     ]
    }
   ],
   "source": [
    "lst = [x for x in range(10)] \n",
    "print(lst)\n",
    "out_gen = (x for x in lst if x%2 == 0) \n",
    "print(out_gen) \n",
    "for ele in out_gen:\n",
    "    print(ele, end=\" \")"
   ]
  }
 ],
 "metadata": {
  "kernelspec": {
   "display_name": "Python 3.10.7 64-bit",
   "language": "python",
   "name": "python3"
  },
  "language_info": {
   "codemirror_mode": {
    "name": "ipython",
    "version": 3
   },
   "file_extension": ".py",
   "mimetype": "text/x-python",
   "name": "python",
   "nbconvert_exporter": "python",
   "pygments_lexer": "ipython3",
   "version": "3.10.7"
  },
  "orig_nbformat": 4,
  "vscode": {
   "interpreter": {
    "hash": "3196968d684371006099b3d55edeef8ed90365227a30deaef86e5d4aa8519be0"
   }
  }
 },
 "nbformat": 4,
 "nbformat_minor": 2
}
